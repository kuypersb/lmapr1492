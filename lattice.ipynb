{
 "cells": [
  {
   "cell_type": "code",
   "execution_count": 1,
   "id": "8f02c1a6",
   "metadata": {},
   "outputs": [],
   "source": [
    "from pymatgen import Structure\n",
    "from jupyter_jsmol.pymatgen import quick_view\n",
    "from pymatgen.ext.matproj import MPRester\n",
    "from pymatgen.symmetry.analyzer import SpacegroupAnalyzer"
   ]
  },
  {
   "cell_type": "code",
   "execution_count": 2,
   "id": "7a3f16d1",
   "metadata": {},
   "outputs": [],
   "source": [
    "# Récupération de la structure\n",
    "with MPRester(\"m4UKTJ8LxatvzyEV\") as m:\n",
    "    structure = m.get_structure_by_material_id(\"mp-505297\")"
   ]
  },
  {
   "cell_type": "code",
   "execution_count": 3,
   "id": "d6c91b36",
   "metadata": {},
   "outputs": [
    {
     "data": {
      "application/vnd.jupyter.widget-view+json": {
       "model_id": "e6929aee7716471593dc807b7efcf424",
       "version_major": 2,
       "version_minor": 0
      },
      "text/plain": [
       "JsmolView(layout=Layout(align_self='stretch', height='400px'))"
      ]
     },
     "metadata": {},
     "output_type": "display_data"
    }
   ],
   "source": [
    "# Visualisation\n",
    "view = quick_view(structure)\n",
    "display(view)"
   ]
  },
  {
   "cell_type": "code",
   "execution_count": 4,
   "id": "b9e1d8cf",
   "metadata": {},
   "outputs": [
    {
     "name": "stdout",
     "output_type": "stream",
     "text": [
      "Vecteurs de base du réseau direct de la structure:\n",
      "\n",
      "Normes en Ångström:\n",
      "\n",
      "a = 4.38556676658696\n",
      "b = 4.38556676658696\n",
      "c = 4.38556676658696\n",
      "\n",
      "Angles en °:\n",
      "\n",
      "alpha = 60.00000000000001\n",
      "beta = 60.00000000000001\n",
      "gamma = 60.00000000000001\n",
      "\n"
     ]
    }
   ],
   "source": [
    "# Réseau direct\n",
    "vecteurs = structure.lattice\n",
    "normes = vecteurs.abc\n",
    "angles = vecteurs.angles\n",
    "print(\"Vecteurs de base du réseau direct de la structure:\\n\")\n",
    "print(\"Normes en Ångström:\\n\")\n",
    "print(\"a = {}\\nb = {}\\nc = {}\\n\".format(normes[0], normes[1], normes[2]))\n",
    "print(\"Angles en °:\\n\")\n",
    "print(\"alpha = {}\\nbeta = {}\\ngamma = {}\\n\".format(angles[0], angles[1], angles[2]))"
   ]
  },
  {
   "cell_type": "code",
   "execution_count": 5,
   "id": "f553393e",
   "metadata": {},
   "outputs": [
    {
     "name": "stdout",
     "output_type": "stream",
     "text": [
      "Vecteurs de base du réseau réciproque de la structure:\n",
      "\n",
      "Normes en Ångström:\n",
      "\n",
      "a = 1.7546874533072043\n",
      "b = 1.7546874533072043\n",
      "c = 1.7546874533072045\n",
      "\n",
      "Angles en °:\n",
      "\n",
      "alpha = 109.47122063449069\n",
      "beta = 109.47122063449069\n",
      "gamma = 109.47122063449069\n",
      "\n"
     ]
    }
   ],
   "source": [
    "# Réseau réciproque\n",
    "vecteurs_recip = structure.lattice.reciprocal_lattice\n",
    "normes_recip = vecteurs_recip.abc\n",
    "angles_recip = vecteurs_recip.angles\n",
    "print(\"Vecteurs de base du réseau réciproque de la structure:\\n\")\n",
    "print(\"Normes en Ångström:\\n\")\n",
    "print(\"a = {}\\nb = {}\\nc = {}\\n\".format(normes_recip[0], normes_recip[1], normes_recip[2]))\n",
    "print(\"Angles en °:\\n\")\n",
    "print(\"alpha = {}\\nbeta = {}\\ngamma = {}\\n\".format(angles_recip[0], angles_recip[1], angles_recip[2]))"
   ]
  },
  {
   "cell_type": "code",
   "execution_count": 6,
   "id": "d04f7b04",
   "metadata": {},
   "outputs": [
    {
     "name": "stdout",
     "output_type": "stream",
     "text": [
      "Type de maille: cubic\n"
     ]
    }
   ],
   "source": [
    "# Type de maille\n",
    "lattice = SpacegroupAnalyzer(structure).get_lattice_type()\n",
    "print(\"Type de maille:\", lattice)"
   ]
  },
  {
   "cell_type": "code",
   "execution_count": 7,
   "id": "1303f9c5",
   "metadata": {},
   "outputs": [
    {
     "name": "stdout",
     "output_type": "stream",
     "text": [
      "Système cristallin: cubic\n"
     ]
    }
   ],
   "source": [
    "# Système cristallin\n",
    "system = SpacegroupAnalyzer(structure).get_crystal_system()\n",
    "print(\"Système cristallin:\", system)"
   ]
  },
  {
   "cell_type": "code",
   "execution_count": 8,
   "id": "c75b9672",
   "metadata": {},
   "outputs": [
    {
     "name": "stdout",
     "output_type": "stream",
     "text": [
      "Groupe ponctuel : -43m\n"
     ]
    }
   ],
   "source": [
    "# Groupe ponctuel\n",
    "group = SpacegroupAnalyzer(structure).get_point_group_symbol()\n",
    "print(\"Groupe ponctuel :\", group)"
   ]
  },
  {
   "cell_type": "code",
   "execution_count": null,
   "id": "d96fa261",
   "metadata": {},
   "outputs": [],
   "source": []
  }
 ],
 "metadata": {
  "kernelspec": {
   "display_name": "Python 3",
   "language": "python",
   "name": "python3"
  },
  "language_info": {
   "codemirror_mode": {
    "name": "ipython",
    "version": 3
   },
   "file_extension": ".py",
   "mimetype": "text/x-python",
   "name": "python",
   "nbconvert_exporter": "python",
   "pygments_lexer": "ipython3",
   "version": "3.6.8"
  }
 },
 "nbformat": 4,
 "nbformat_minor": 5
}
