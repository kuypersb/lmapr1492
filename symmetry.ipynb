{
 "cells": [
  {
   "cell_type": "markdown",
   "id": "ce5102c2",
   "metadata": {},
   "source": [
    "## Tâche 6 : Etude de symétries "
   ]
  },
  {
   "cell_type": "code",
   "execution_count": 31,
   "id": "3abcaa7a",
   "metadata": {},
   "outputs": [],
   "source": [
    "from pymatgen import Structure\n",
    "from jupyter_jsmol.pymatgen import quick_view\n",
    "from pymatgen.ext.matproj import MPRester\n",
    "from pymatgen.symmetry.analyzer import SpacegroupAnalyzer\n",
    "from pymatgen.core.operations import SymmOp\n",
    "from pymatgen.symmetry.site_symmetries import *"
   ]
  },
  {
   "cell_type": "code",
   "execution_count": 32,
   "id": "ebaf61bd",
   "metadata": {},
   "outputs": [],
   "source": [
    "# Récupération de la structure\n",
    "with MPRester(\"m4UKTJ8LxatvzyEV\") as m:\n",
    "    structure = m.get_structure_by_material_id(\"mp-505297\")"
   ]
  },
  {
   "cell_type": "code",
   "execution_count": 33,
   "id": "044dc915",
   "metadata": {},
   "outputs": [
    {
     "data": {
      "application/vnd.jupyter.widget-view+json": {
       "model_id": "8b95e40c5a5144b48078cdf7ff604a56",
       "version_major": 2,
       "version_minor": 0
      },
      "text/plain": [
       "JsmolView(layout=Layout(align_self='stretch', height='400px'))"
      ]
     },
     "metadata": {},
     "output_type": "display_data"
    }
   ],
   "source": [
    "# Visualisation\n",
    "view = quick_view(structure)\n",
    "display(view)"
   ]
  },
  {
   "cell_type": "code",
   "execution_count": 38,
   "id": "b43243cc",
   "metadata": {},
   "outputs": [],
   "source": [
    "# Symétries de la molécule\n",
    "sym = SpacegroupAnalyzer(structure).get_symmetry_operations()\n",
    "\n",
    "# Symétries choisies pour les atomes\n",
    "# Plan miroir (z,y,x)\n",
    "S1 = sym[7]\n",
    "# Axe 4-barre | centre d'inversion en (0,0,0)  (-x-y-z,x,y)\n",
    "S2 = sym[3]\n",
    "# Axe de rotation C2 (y,x,-x-y-z)\n",
    "S3 = sym[6]\n",
    "\n",
    "# Atomes choisis\n",
    "Nb = [0.0, 0.0, 0.0]\n",
    "Sb = [0.0, 0.0, 0.5]\n",
    "Ru = [0.25, 0.25, 0.75]\n",
    "\n",
    "# Application des symétries\n",
    "Nb_sym = S1.operate(Nb)\n",
    "Sb_sym = S2.operate(Sb)\n",
    "Ru_sym = S3.operate(Ru)"
   ]
  },
  {
   "cell_type": "markdown",
   "id": "e80ba8d8",
   "metadata": {},
   "source": [
    "### Première symétrie sur l'atome de Nb"
   ]
  },
  {
   "cell_type": "code",
   "execution_count": 39,
   "id": "23434a65",
   "metadata": {},
   "outputs": [
    {
     "name": "stdout",
     "output_type": "stream",
     "text": [
      "Opération de symétrie 1: \n",
      "\n",
      "L'atome de départ est le Nb et a comme coordonnées: [0.0, 0.0, 0.0]\n",
      "\n",
      "On lui applique une symétrie de plan miroir (z,y,x) :\n",
      "\n",
      "[[0. 0. 1.]\n",
      " [0. 1. 0.]\n",
      " [1. 0. 0.]] * [0.0, 0.0, 0.0] + [0. 0. 0.]\n",
      "L'atome d'arrivé a comme coordonnées : [0. 0. 0.]\n",
      "\n"
     ]
    },
    {
     "data": {
      "application/vnd.jupyter.widget-view+json": {
       "model_id": "1c9afdde207d402f876781da8c6fd980",
       "version_major": 2,
       "version_minor": 0
      },
      "text/plain": [
       "JsmolView(layout=Layout(align_self='stretch', height='400px'))"
      ]
     },
     "metadata": {},
     "output_type": "display_data"
    }
   ],
   "source": [
    "print(\"Opération de symétrie 1: \\n\")\n",
    "print(\"L'atome de départ est le Nb et a comme coordonnées: {}\\n\".format(Nb))\n",
    "print(\"On lui applique une symétrie de plan miroir (z,y,x) :\\n\")\n",
    "print(S1.rotation_matrix, \"*\", Nb, '+', S1.translation_vector)\n",
    "print(\"L'atome d'arrivé a comme coordonnées : {}\\n\".format(Nb_sym))\n",
    "v1 = quick_view(structure)\n",
    "display(v1)\n",
    "v1.script(\"draw symop 8 {atomno=1}\")"
   ]
  },
  {
   "cell_type": "markdown",
   "id": "5d17ace9",
   "metadata": {},
   "source": [
    "### Deuxième symétrie sur l'atome de Sb"
   ]
  },
  {
   "cell_type": "code",
   "execution_count": 40,
   "id": "7661deeb",
   "metadata": {},
   "outputs": [
    {
     "name": "stdout",
     "output_type": "stream",
     "text": [
      "Opération de symétrie 2: \n",
      "\n",
      "L'atome de départ est le Sb et a comme coordonnées: [0.0, 0.0, 0.5]\n",
      "\n",
      "On lui applique une roto-inversion (-x-y-z,x,y) :\n",
      "[[-1. -1. -1.]\n",
      " [ 1.  0.  0.]\n",
      " [ 0.  1.  0.]] * [0.0, 0.0, 0.5] + [0. 0. 0.]\n",
      "L'atome d'arrivé a comme coordonnées : [-0.5  0.   0. ]\n",
      "\n"
     ]
    },
    {
     "data": {
      "application/vnd.jupyter.widget-view+json": {
       "model_id": "907a62af68bf414a98b9b66710ecbf68",
       "version_major": 2,
       "version_minor": 0
      },
      "text/plain": [
       "JsmolView(layout=Layout(align_self='stretch', height='400px'))"
      ]
     },
     "metadata": {},
     "output_type": "display_data"
    }
   ],
   "source": [
    "print(\"Opération de symétrie 2: \\n\")\n",
    "print(\"L'atome de départ est le Sb et a comme coordonnées: {}\\n\".format(Sb))\n",
    "print(\"On lui applique une roto-inversion (-x-y-z,x,y) :\")\n",
    "print(S2.rotation_matrix, \"*\", Sb, '+', S2.translation_vector)\n",
    "print(\"L'atome d'arrivé a comme coordonnées : {}\\n\".format(Sb_sym))\n",
    "v1 = quick_view(structure)\n",
    "display(v1)\n",
    "v1.script(\"draw symop 4 {atomno=7}\")"
   ]
  },
  {
   "cell_type": "markdown",
   "id": "a05b7a77",
   "metadata": {},
   "source": [
    "### Troisième symétrie sur l'atome de Ru"
   ]
  },
  {
   "cell_type": "code",
   "execution_count": 41,
   "id": "5979f378",
   "metadata": {
    "scrolled": true
   },
   "outputs": [
    {
     "name": "stdout",
     "output_type": "stream",
     "text": [
      "Opération de symétrie 3: \n",
      "\n",
      "L'atome de départ est le Ru et a comme coordonnées: [0.25, 0.25, 0.75]\n",
      "\n",
      "On lui applique une symétrie d'axe 2 (y,x,-x-y-z) : \n",
      "[[ 0.  1.  0.]\n",
      " [ 1.  0.  0.]\n",
      " [-1. -1. -1.]] * [0.25, 0.25, 0.75] + [0. 0. 0.]\n",
      "L'atome d'arrivé a comme coordonnées : [ 0.25  0.25 -1.25]\n",
      "\n"
     ]
    },
    {
     "data": {
      "application/vnd.jupyter.widget-view+json": {
       "model_id": "bc9db002fc6f4f55acd3a44f1eb3ab83",
       "version_major": 2,
       "version_minor": 0
      },
      "text/plain": [
       "JsmolView(layout=Layout(align_self='stretch', height='400px'))"
      ]
     },
     "metadata": {},
     "output_type": "display_data"
    }
   ],
   "source": [
    "print(\"Opération de symétrie 3: \\n\")\n",
    "print(\"L'atome de départ est le Ru et a comme coordonnées: {}\\n\".format(Ru))\n",
    "print(\"On lui applique une symétrie d'axe 2 (y,x,-x-y-z) : \")\n",
    "print(S3.rotation_matrix, \"*\", Ru, '+', S3.translation_vector)\n",
    "print(\"L'atome d'arrivé a comme coordonnées : {}\\n\".format(Ru_sym))\n",
    "v1 = quick_view(structure)\n",
    "display(v1)\n",
    "v1.script(\"draw symop 7 {atomno=3}\")"
   ]
  },
  {
   "cell_type": "code",
   "execution_count": null,
   "id": "0135db9d",
   "metadata": {},
   "outputs": [],
   "source": []
  }
 ],
 "metadata": {
  "kernelspec": {
   "display_name": "Python 3",
   "language": "python",
   "name": "python3"
  },
  "language_info": {
   "codemirror_mode": {
    "name": "ipython",
    "version": 3
   },
   "file_extension": ".py",
   "mimetype": "text/x-python",
   "name": "python",
   "nbconvert_exporter": "python",
   "pygments_lexer": "ipython3",
   "version": "3.6.8"
  }
 },
 "nbformat": 4,
 "nbformat_minor": 5
}
