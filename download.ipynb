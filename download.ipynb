{
 "cells": [
  {
   "cell_type": "code",
   "execution_count": 10,
   "id": "2ff02e22",
   "metadata": {},
   "outputs": [],
   "source": [
    "from pymatgen import Structure\n",
    "from pymatgen.ext.matproj import MPRester"
   ]
  },
  {
   "cell_type": "code",
   "execution_count": 11,
   "id": "cc01deb1",
   "metadata": {},
   "outputs": [],
   "source": [
    "with MPRester(\"m4UKTJ8LxatvzyEV\") as m:\n",
    "    structure = m.get_structure_by_material_id(\"mp-505297\")\n",
    "    structure.to(filename = \"NbSbRu.cif\")"
   ]
  },
  {
   "cell_type": "code",
   "execution_count": null,
   "id": "b008afe4",
   "metadata": {},
   "outputs": [],
   "source": []
  }
 ],
 "metadata": {
  "kernelspec": {
   "display_name": "Python 3",
   "language": "python",
   "name": "python3"
  },
  "language_info": {
   "codemirror_mode": {
    "name": "ipython",
    "version": 3
   },
   "file_extension": ".py",
   "mimetype": "text/x-python",
   "name": "python",
   "nbconvert_exporter": "python",
   "pygments_lexer": "ipython3",
   "version": "3.6.8"
  }
 },
 "nbformat": 4,
 "nbformat_minor": 5
}
